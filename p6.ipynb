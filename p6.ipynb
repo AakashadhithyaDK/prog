{
 "cells": [
  {
   "cell_type": "code",
   "execution_count": 12,
   "metadata": {},
   "outputs": [
    {
     "name": "stdout",
     "output_type": "stream",
     "text": [
      "the first 5 contents of data is:\n",
      "     Outlook temperature humidity    wind    Y\n",
      "0     sunny         hot     mild  strong  yes\n",
      "1  moderate      normal     mild  strong  yes\n",
      "2     rainy      normal     mild  strong   no\n",
      "3     sunny      normal     mild  storng  yes\n",
      "4     sunny        high   normal  strong   no\n",
      "the first 5 contents of X is:\n",
      "     Outlook temperature humidity    wind\n",
      "0     sunny         hot     mild  strong\n",
      "1  moderate      normal     mild  strong\n",
      "2     rainy      normal     mild  strong\n",
      "3     sunny      normal     mild  storng\n",
      "4     sunny        high   normal  strong\n",
      "the first 5 contents of Yis:\n",
      " 0    yes\n",
      "1    yes\n",
      "2     no\n",
      "3    yes\n",
      "4     no\n",
      "Name: Y, dtype: object\n",
      "the accuracy is: 1.0\n"
     ]
    },
    {
     "name": "stderr",
     "output_type": "stream",
     "text": [
      "C:\\ProgramData\\Anaconda3\\lib\\site-packages\\pandas\\core\\generic.py:5303: SettingWithCopyWarning: \n",
      "A value is trying to be set on a copy of a slice from a DataFrame.\n",
      "Try using .loc[row_indexer,col_indexer] = value instead\n",
      "\n",
      "See the caveats in the documentation: https://pandas.pydata.org/pandas-docs/stable/user_guide/indexing.html#returning-a-view-versus-a-copy\n",
      "  self[name] = value\n"
     ]
    }
   ],
   "source": [
    "import pandas as pd\n",
    "from sklearn.preprocessing import LabelEncoder\n",
    "from sklearn.model_selection import train_test_split\n",
    "\n",
    "data=pd.read_csv('tennis.csv')\n",
    "print('the first 5 contents of data is:\\n',data.head())\n",
    "\n",
    "X=data.iloc[:,0:-1]\n",
    "print('the first 5 contents of X is:\\n',X.head())\n",
    "\n",
    "Y=data.iloc[:,-1]\n",
    "print('the first 5 contents of Yis:\\n',Y.head())\n",
    "\n",
    "obj1=LabelEncoder()\n",
    "X.Outlook=obj1.fit_transform(X.Outlook)\n",
    "\n",
    "obj2=LabelEncoder()\n",
    "X.temperature=obj2.fit_transform(X.temperature)\n",
    "\n",
    "obj3=LabelEncoder()\n",
    "X.humidity=obj3.fit_transform(X.humidity)\n",
    "\n",
    "obj4=LabelEncoder()\n",
    "X.wind=obj4.fit_transform(X.wind)\n",
    "\n",
    "obj5=LabelEncoder()\n",
    "Y=obj5.fit_transform(Y)\n",
    "\n",
    "X_train,X_test,Y_train,Y_test=train_test_split(X,Y,test_size=0.1)\n",
    "\n",
    "from sklearn.naive_bayes import GaussianNB\n",
    "classifier=GaussianNB()\n",
    "classifier.fit(X_train,Y_train)\n",
    "\n",
    "from sklearn.metrics import accuracy_score\n",
    "print('the accuracy is:',accuracy_score(classifier.predict(X_test),Y_test))\n",
    "\n"
   ]
  },
  {
   "cell_type": "code",
   "execution_count": null,
   "metadata": {},
   "outputs": [],
   "source": []
  },
  {
   "cell_type": "code",
   "execution_count": null,
   "metadata": {},
   "outputs": [],
   "source": []
  },
  {
   "cell_type": "code",
   "execution_count": null,
   "metadata": {},
   "outputs": [],
   "source": []
  }
 ],
 "metadata": {
  "kernelspec": {
   "display_name": "Python 3",
   "language": "python",
   "name": "python3"
  },
  "language_info": {
   "codemirror_mode": {
    "name": "ipython",
    "version": 3
   },
   "file_extension": ".py",
   "mimetype": "text/x-python",
   "name": "python",
   "nbconvert_exporter": "python",
   "pygments_lexer": "ipython3",
   "version": "3.8.3"
  }
 },
 "nbformat": 4,
 "nbformat_minor": 4
}
